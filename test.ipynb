{
 "cells": [
  {
   "cell_type": "code",
   "execution_count": null,
   "id": "b6891f73",
   "metadata": {},
   "outputs": [],
   "source": [
    "import numpy as np\n",
    "import pandas as pd\n",
    "\n",
    "u1 = [0, 1, 0, 1, 1]\n",
    "u2 = [0, 1, 0, 0, 0]\n",
    "u3 = [0, 1, 1, 0, 0]\n",
    "u4 = [0, 1, 1, 1, 0]\n",
    "\n",
    "train_data = [u1, u2, u3, u4]\n",
    "n_users = len(train_data)\n",
    "# convert list to pandas dataframe\n",
    "\n",
    "train_df = pd.DataFrame(train_data, columns=[\"u1\", \"u2\", \"u3\", \"u4\", \"u5\"])\n",
    "train_df = np.array(train_df)"
   ]
  },
  {
   "cell_type": "code",
   "execution_count": 9,
   "id": "d2d348cd",
   "metadata": {},
   "outputs": [
    {
     "name": "stdout",
     "output_type": "stream",
     "text": [
      "Computing item interaction counts...\n"
     ]
    }
   ],
   "source": [
    "\n",
    "# 1. Item interaction counts - vectorized calculation\n",
    "print(\"Computing item interaction counts...\")\n",
    "item_counts_vec = np.array(train_df.sum(axis=0)).flatten()  # Sum across users"
   ]
  },
  {
   "cell_type": "code",
   "execution_count": 10,
   "id": "4db94139",
   "metadata": {},
   "outputs": [
    {
     "name": "stdout",
     "output_type": "stream",
     "text": [
      "Item interaction counts (vectorized):\n",
      "[0 4 2 2 1]\n"
     ]
    }
   ],
   "source": [
    "print(\"Item interaction counts (vectorized):\")\n",
    "print(item_counts_vec)"
   ]
  },
  {
   "cell_type": "code",
   "execution_count": 11,
   "id": "0c1a775d",
   "metadata": {},
   "outputs": [],
   "source": [
    "# Create a matrix where each row is the item counts\n",
    "item_counts = np.tile(item_counts_vec, (n_users, 1))"
   ]
  },
  {
   "cell_type": "code",
   "execution_count": 12,
   "id": "ea374dab",
   "metadata": {},
   "outputs": [
    {
     "name": "stdout",
     "output_type": "stream",
     "text": [
      "Item interaction counts (matrix):\n",
      "[[0 4 2 2 1]\n",
      " [0 4 2 2 1]\n",
      " [0 4 2 2 1]\n",
      " [0 4 2 2 1]]\n"
     ]
    }
   ],
   "source": [
    "print(\"Item interaction counts (matrix):\")\n",
    "print(item_counts)"
   ]
  },
  {
   "cell_type": "code",
   "execution_count": 13,
   "id": "d95f75d3",
   "metadata": {},
   "outputs": [
    {
     "name": "stdout",
     "output_type": "stream",
     "text": [
      "Computing user similarity matrix...\n"
     ]
    },
    {
     "ename": "AttributeError",
     "evalue": "'DataFrame' object has no attribute 'tocsr'",
     "output_type": "error",
     "traceback": [
      "\u001b[0;31m---------------------------------------------------------------------------\u001b[0m",
      "\u001b[0;31mAttributeError\u001b[0m                            Traceback (most recent call last)",
      "\u001b[0;32m/var/folders/2m/r4mxd0554dd8rsw6pz5ppz7w0000gn/T/ipykernel_52797/4113558601.py\u001b[0m in \u001b[0;36m?\u001b[0;34m()\u001b[0m\n\u001b[1;32m      1\u001b[0m \u001b[0;31m# 2. Calculate co-interaction counts using fully vectorized operations\u001b[0m\u001b[0;34m\u001b[0m\u001b[0;34m\u001b[0m\u001b[0m\n\u001b[1;32m      2\u001b[0m \u001b[0mprint\u001b[0m\u001b[0;34m(\u001b[0m\u001b[0;34m\"Computing user similarity matrix...\"\u001b[0m\u001b[0;34m)\u001b[0m\u001b[0;34m\u001b[0m\u001b[0;34m\u001b[0m\u001b[0m\n\u001b[1;32m      3\u001b[0m \u001b[0;31m# Convert to CSR for efficient operations\u001b[0m\u001b[0;34m\u001b[0m\u001b[0;34m\u001b[0m\u001b[0m\n\u001b[0;32m----> 4\u001b[0;31m \u001b[0mtrain_csr\u001b[0m \u001b[0;34m=\u001b[0m \u001b[0mtrain_df\u001b[0m\u001b[0;34m.\u001b[0m\u001b[0mtocsr\u001b[0m\u001b[0;34m(\u001b[0m\u001b[0;34m)\u001b[0m\u001b[0;34m\u001b[0m\u001b[0;34m\u001b[0m\u001b[0m\n\u001b[0m\u001b[1;32m      5\u001b[0m \u001b[0mtrain_csr\u001b[0m\u001b[0;34m\u001b[0m\u001b[0;34m\u001b[0m\u001b[0m\n",
      "\u001b[0;32m/opt/anaconda3/lib/python3.12/site-packages/pandas/core/generic.py\u001b[0m in \u001b[0;36m?\u001b[0;34m(self, name)\u001b[0m\n\u001b[1;32m   6295\u001b[0m             \u001b[0;32mand\u001b[0m \u001b[0mname\u001b[0m \u001b[0;32mnot\u001b[0m \u001b[0;32min\u001b[0m \u001b[0mself\u001b[0m\u001b[0;34m.\u001b[0m\u001b[0m_accessors\u001b[0m\u001b[0;34m\u001b[0m\u001b[0;34m\u001b[0m\u001b[0m\n\u001b[1;32m   6296\u001b[0m             \u001b[0;32mand\u001b[0m \u001b[0mself\u001b[0m\u001b[0;34m.\u001b[0m\u001b[0m_info_axis\u001b[0m\u001b[0;34m.\u001b[0m\u001b[0m_can_hold_identifiers_and_holds_name\u001b[0m\u001b[0;34m(\u001b[0m\u001b[0mname\u001b[0m\u001b[0;34m)\u001b[0m\u001b[0;34m\u001b[0m\u001b[0;34m\u001b[0m\u001b[0m\n\u001b[1;32m   6297\u001b[0m         \u001b[0;34m)\u001b[0m\u001b[0;34m:\u001b[0m\u001b[0;34m\u001b[0m\u001b[0;34m\u001b[0m\u001b[0m\n\u001b[1;32m   6298\u001b[0m             \u001b[0;32mreturn\u001b[0m \u001b[0mself\u001b[0m\u001b[0;34m[\u001b[0m\u001b[0mname\u001b[0m\u001b[0;34m]\u001b[0m\u001b[0;34m\u001b[0m\u001b[0;34m\u001b[0m\u001b[0m\n\u001b[0;32m-> 6299\u001b[0;31m         \u001b[0;32mreturn\u001b[0m \u001b[0mobject\u001b[0m\u001b[0;34m.\u001b[0m\u001b[0m__getattribute__\u001b[0m\u001b[0;34m(\u001b[0m\u001b[0mself\u001b[0m\u001b[0;34m,\u001b[0m \u001b[0mname\u001b[0m\u001b[0;34m)\u001b[0m\u001b[0;34m\u001b[0m\u001b[0;34m\u001b[0m\u001b[0m\n\u001b[0m",
      "\u001b[0;31mAttributeError\u001b[0m: 'DataFrame' object has no attribute 'tocsr'"
     ]
    }
   ],
   "source": [
    "# 2. Calculate co-interaction counts using fully vectorized operations\n",
    "print(\"Computing user similarity matrix...\")\n",
    "# Convert to CSR for efficient operations\n",
    "train_csr = train_df.tocsr()\n",
    "train_csr"
   ]
  },
  {
   "cell_type": "code",
   "execution_count": null,
   "id": "f511486b",
   "metadata": {},
   "outputs": [],
   "source": []
  }
 ],
 "metadata": {
  "kernelspec": {
   "display_name": "base",
   "language": "python",
   "name": "python3"
  },
  "language_info": {
   "codemirror_mode": {
    "name": "ipython",
    "version": 3
   },
   "file_extension": ".py",
   "mimetype": "text/x-python",
   "name": "python",
   "nbconvert_exporter": "python",
   "pygments_lexer": "ipython3",
   "version": "3.12.2"
  }
 },
 "nbformat": 4,
 "nbformat_minor": 5
}
